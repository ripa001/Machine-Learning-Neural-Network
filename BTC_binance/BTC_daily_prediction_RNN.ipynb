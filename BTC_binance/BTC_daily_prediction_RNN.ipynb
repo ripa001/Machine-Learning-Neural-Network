{
 "cells": [
  {
   "cell_type": "code",
   "execution_count": 5,
   "metadata": {
    "id": "HPaUy7klAii2"
   },
   "outputs": [
    {
     "name": "stdout",
     "output_type": "stream",
     "text": [
      "Collecting pandas-datareader\n",
      "  Downloading pandas_datareader-0.10.0-py3-none-any.whl (109 kB)\n",
      "Requirement already satisfied: lxml in c:\\users\\mattia\\list\\lib\\site-packages (from pandas-datareader) (4.6.3)\n",
      "Requirement already satisfied: requests>=2.19.0 in c:\\users\\mattia\\list\\lib\\site-packages (from pandas-datareader) (2.26.0)\n",
      "Requirement already satisfied: pandas>=0.23 in c:\\users\\mattia\\list\\lib\\site-packages (from pandas-datareader) (1.3.3)\n",
      "Requirement already satisfied: python-dateutil>=2.7.3 in c:\\users\\mattia\\list\\lib\\site-packages (from pandas>=0.23->pandas-datareader) (2.8.2)\n",
      "Requirement already satisfied: pytz>=2017.3 in c:\\users\\mattia\\list\\lib\\site-packages (from pandas>=0.23->pandas-datareader) (2021.3)\n",
      "Requirement already satisfied: numpy>=1.17.3 in c:\\users\\mattia\\list\\lib\\site-packages (from pandas>=0.23->pandas-datareader) (1.19.5)\n",
      "Requirement already satisfied: six>=1.5 in c:\\users\\mattia\\list\\lib\\site-packages (from python-dateutil>=2.7.3->pandas>=0.23->pandas-datareader) (1.15.0)\n",
      "Requirement already satisfied: urllib3<1.27,>=1.21.1 in c:\\users\\mattia\\list\\lib\\site-packages (from requests>=2.19.0->pandas-datareader) (1.26.7)\n",
      "Requirement already satisfied: charset-normalizer~=2.0.0 in c:\\users\\mattia\\list\\lib\\site-packages (from requests>=2.19.0->pandas-datareader) (2.0.7)\n",
      "Requirement already satisfied: idna<4,>=2.5 in c:\\users\\mattia\\list\\lib\\site-packages (from requests>=2.19.0->pandas-datareader) (3.3)\n",
      "Requirement already satisfied: certifi>=2017.4.17 in c:\\users\\mattia\\list\\lib\\site-packages (from requests>=2.19.0->pandas-datareader) (2021.10.8)\n",
      "Installing collected packages: pandas-datareader\n",
      "Successfully installed pandas-datareader-0.10.0\n"
     ]
    },
    {
     "name": "stderr",
     "output_type": "stream",
     "text": [
      "WARNING: You are using pip version 21.2.4; however, version 21.3.1 is available.\n",
      "You should consider upgrading via the 'C:\\Users\\Mattia\\list\\Scripts\\python.exe -m pip install --upgrade pip' command.\n"
     ]
    }
   ],
   "source": [
    "\n",
    "! pip install pandas-datareader\n",
    "import pandas as pd\n",
    "import pandas_datareader as web\n",
    "import numpy as np\n",
    "import matplotlib.pyplot as plt\n",
    "import datetime as dt\n",
    "from sklearn.preprocessing import MinMaxScaler\n",
    "from tensorflow.keras.layers import Dense, Dropout, LSTM\n",
    "from tensorflow.keras.models import Sequential"
   ]
  },
  {
   "cell_type": "code",
   "execution_count": 172,
   "metadata": {
    "colab": {
     "base_uri": "https://localhost:8080/",
     "height": 589
    },
    "id": "nUAXP6N8AuYf",
    "outputId": "fd67cd6b-8678-42e9-eae6-e692f9478da0"
   },
   "outputs": [],
   "source": [
    "crypto = 'BTC'\n",
    "against_courrency = 'EUR'\n",
    "start = dt.datetime(2016,1,1)\n",
    "# end = dt.datetime(2021,9,1)\n",
    "end = dt.datetime.now()\n",
    "data = web.DataReader(f'{crypto}-{against_courrency}','yahoo',start,end)"
   ]
  },
  {
   "cell_type": "code",
   "execution_count": 173,
   "metadata": {
    "id": "WJkDsX6nB0xJ"
   },
   "outputs": [
    {
     "data": {
      "text/html": [
       "<div>\n",
       "<style scoped>\n",
       "    .dataframe tbody tr th:only-of-type {\n",
       "        vertical-align: middle;\n",
       "    }\n",
       "\n",
       "    .dataframe tbody tr th {\n",
       "        vertical-align: top;\n",
       "    }\n",
       "\n",
       "    .dataframe thead th {\n",
       "        text-align: right;\n",
       "    }\n",
       "</style>\n",
       "<table border=\"1\" class=\"dataframe\">\n",
       "  <thead>\n",
       "    <tr style=\"text-align: right;\">\n",
       "      <th></th>\n",
       "      <th>High</th>\n",
       "      <th>Low</th>\n",
       "      <th>Open</th>\n",
       "      <th>Close</th>\n",
       "      <th>Volume</th>\n",
       "      <th>Adj Close</th>\n",
       "    </tr>\n",
       "    <tr>\n",
       "      <th>Date</th>\n",
       "      <th></th>\n",
       "      <th></th>\n",
       "      <th></th>\n",
       "      <th></th>\n",
       "      <th></th>\n",
       "      <th></th>\n",
       "    </tr>\n",
       "  </thead>\n",
       "  <tbody>\n",
       "    <tr>\n",
       "      <th>2019-09-17</th>\n",
       "      <td>9316.917969</td>\n",
       "      <td>9240.340820</td>\n",
       "      <td>9253.401367</td>\n",
       "      <td>9246.486328</td>\n",
       "      <td>1.466026e+10</td>\n",
       "      <td>9246.486328</td>\n",
       "    </tr>\n",
       "    <tr>\n",
       "      <th>2019-09-18</th>\n",
       "      <td>9319.454102</td>\n",
       "      <td>8917.574219</td>\n",
       "      <td>9248.524414</td>\n",
       "      <td>9292.973633</td>\n",
       "      <td>1.804724e+10</td>\n",
       "      <td>9292.973633</td>\n",
       "    </tr>\n",
       "    <tr>\n",
       "      <th>2019-09-19</th>\n",
       "      <td>9334.069336</td>\n",
       "      <td>9194.604492</td>\n",
       "      <td>9292.886719</td>\n",
       "      <td>9239.483398</td>\n",
       "      <td>1.337076e+10</td>\n",
       "      <td>9239.483398</td>\n",
       "    </tr>\n",
       "    <tr>\n",
       "      <th>2019-09-20</th>\n",
       "      <td>9245.341797</td>\n",
       "      <td>9075.292969</td>\n",
       "      <td>9241.304688</td>\n",
       "      <td>9092.541992</td>\n",
       "      <td>1.218296e+10</td>\n",
       "      <td>9092.541992</td>\n",
       "    </tr>\n",
       "    <tr>\n",
       "      <th>2019-09-21</th>\n",
       "      <td>9142.628906</td>\n",
       "      <td>9004.768555</td>\n",
       "      <td>9096.534180</td>\n",
       "      <td>9138.951172</td>\n",
       "      <td>1.197878e+10</td>\n",
       "      <td>9138.951172</td>\n",
       "    </tr>\n",
       "    <tr>\n",
       "      <th>...</th>\n",
       "      <td>...</td>\n",
       "      <td>...</td>\n",
       "      <td>...</td>\n",
       "      <td>...</td>\n",
       "      <td>...</td>\n",
       "      <td>...</td>\n",
       "    </tr>\n",
       "    <tr>\n",
       "      <th>2021-10-26</th>\n",
       "      <td>52939.003906</td>\n",
       "      <td>50162.480469</td>\n",
       "      <td>52043.277344</td>\n",
       "      <td>50421.937500</td>\n",
       "      <td>3.763995e+10</td>\n",
       "      <td>50421.937500</td>\n",
       "    </tr>\n",
       "    <tr>\n",
       "      <th>2021-10-27</th>\n",
       "      <td>53186.023438</td>\n",
       "      <td>49810.277344</td>\n",
       "      <td>50411.882812</td>\n",
       "      <td>51892.304688</td>\n",
       "      <td>3.873988e+10</td>\n",
       "      <td>51892.304688</td>\n",
       "    </tr>\n",
       "    <tr>\n",
       "      <th>2021-10-28</th>\n",
       "      <td>54531.996094</td>\n",
       "      <td>51632.074219</td>\n",
       "      <td>51894.648438</td>\n",
       "      <td>53825.324219</td>\n",
       "      <td>3.188010e+10</td>\n",
       "      <td>53825.324219</td>\n",
       "    </tr>\n",
       "    <tr>\n",
       "      <th>2021-10-29</th>\n",
       "      <td>53913.707031</td>\n",
       "      <td>52692.574219</td>\n",
       "      <td>53835.179688</td>\n",
       "      <td>53531.980469</td>\n",
       "      <td>2.781565e+10</td>\n",
       "      <td>53531.980469</td>\n",
       "    </tr>\n",
       "    <tr>\n",
       "      <th>2021-10-31</th>\n",
       "      <td>53962.851562</td>\n",
       "      <td>52112.519531</td>\n",
       "      <td>53772.566406</td>\n",
       "      <td>52750.285156</td>\n",
       "      <td>2.776960e+10</td>\n",
       "      <td>52750.285156</td>\n",
       "    </tr>\n",
       "  </tbody>\n",
       "</table>\n",
       "<p>771 rows × 6 columns</p>\n",
       "</div>"
      ],
      "text/plain": [
       "                    High           Low          Open         Close  \\\n",
       "Date                                                                 \n",
       "2019-09-17   9316.917969   9240.340820   9253.401367   9246.486328   \n",
       "2019-09-18   9319.454102   8917.574219   9248.524414   9292.973633   \n",
       "2019-09-19   9334.069336   9194.604492   9292.886719   9239.483398   \n",
       "2019-09-20   9245.341797   9075.292969   9241.304688   9092.541992   \n",
       "2019-09-21   9142.628906   9004.768555   9096.534180   9138.951172   \n",
       "...                  ...           ...           ...           ...   \n",
       "2021-10-26  52939.003906  50162.480469  52043.277344  50421.937500   \n",
       "2021-10-27  53186.023438  49810.277344  50411.882812  51892.304688   \n",
       "2021-10-28  54531.996094  51632.074219  51894.648438  53825.324219   \n",
       "2021-10-29  53913.707031  52692.574219  53835.179688  53531.980469   \n",
       "2021-10-31  53962.851562  52112.519531  53772.566406  52750.285156   \n",
       "\n",
       "                  Volume     Adj Close  \n",
       "Date                                    \n",
       "2019-09-17  1.466026e+10   9246.486328  \n",
       "2019-09-18  1.804724e+10   9292.973633  \n",
       "2019-09-19  1.337076e+10   9239.483398  \n",
       "2019-09-20  1.218296e+10   9092.541992  \n",
       "2019-09-21  1.197878e+10   9138.951172  \n",
       "...                  ...           ...  \n",
       "2021-10-26  3.763995e+10  50421.937500  \n",
       "2021-10-27  3.873988e+10  51892.304688  \n",
       "2021-10-28  3.188010e+10  53825.324219  \n",
       "2021-10-29  2.781565e+10  53531.980469  \n",
       "2021-10-31  2.776960e+10  52750.285156  \n",
       "\n",
       "[771 rows x 6 columns]"
      ]
     },
     "execution_count": 173,
     "metadata": {},
     "output_type": "execute_result"
    }
   ],
   "source": [
    "data\n"
   ]
  },
  {
   "cell_type": "code",
   "execution_count": 192,
   "metadata": {},
   "outputs": [
    {
     "name": "stdout",
     "output_type": "stream",
     "text": [
      "(60, 6)\n"
     ]
    }
   ],
   "source": [
    "training_data = data[data.index<'2021-05-01']\n",
    "test_data = data[(data.index>='2021-05-01') & (data.index<'2021-09-01')]\n",
    "last_60 = data[data.index>='2021-09-01']\n",
    "print(last_60.shape)\n",
    "scaler = MinMaxScaler(feature_range=(0,1))\n",
    "scaled_data_close = scaler.fit_transform(training_data['Close'].values.reshape(-1,1))"
   ]
  },
  {
   "cell_type": "code",
   "execution_count": 193,
   "metadata": {},
   "outputs": [
    {
     "name": "stdout",
     "output_type": "stream",
     "text": [
      "[[0.09865056 0.09960552 0.0985067  ... 0.07103823 0.06655629 0.06764871]\n",
      " [0.09960552 0.0985067  0.09548814 ... 0.06655629 0.06764871 0.06810807]\n",
      " [0.0985067  0.09548814 0.09644151 ... 0.06764871 0.06810807 0.0628682 ]\n",
      " ...\n",
      " [0.67560965 0.75489756 0.73107853 ... 0.82740595 0.84385357 0.83679037]\n",
      " [0.75489756 0.73107853 0.77052252 ... 0.84385357 0.83679037 0.81608932]\n",
      " [0.73107853 0.77052252 0.74229148 ... 0.83679037 0.81608932 0.89571402]]\n",
      "(528, 60)\n",
      "[[[0.09865056]\n",
      "  [0.09960552]\n",
      "  [0.0985067 ]\n",
      "  ...\n",
      "  [0.07103823]\n",
      "  [0.06655629]\n",
      "  [0.06764871]]\n",
      "\n",
      " [[0.09960552]\n",
      "  [0.0985067 ]\n",
      "  [0.09548814]\n",
      "  ...\n",
      "  [0.06655629]\n",
      "  [0.06764871]\n",
      "  [0.06810807]]\n",
      "\n",
      " [[0.0985067 ]\n",
      "  [0.09548814]\n",
      "  [0.09644151]\n",
      "  ...\n",
      "  [0.06764871]\n",
      "  [0.06810807]\n",
      "  [0.0628682 ]]\n",
      "\n",
      " ...\n",
      "\n",
      " [[0.67560965]\n",
      "  [0.75489756]\n",
      "  [0.73107853]\n",
      "  ...\n",
      "  [0.82740595]\n",
      "  [0.84385357]\n",
      "  [0.83679037]]\n",
      "\n",
      " [[0.75489756]\n",
      "  [0.73107853]\n",
      "  [0.77052252]\n",
      "  ...\n",
      "  [0.84385357]\n",
      "  [0.83679037]\n",
      "  [0.81608932]]\n",
      "\n",
      " [[0.73107853]\n",
      "  [0.77052252]\n",
      "  [0.74229148]\n",
      "  ...\n",
      "  [0.83679037]\n",
      "  [0.81608932]\n",
      "  [0.89571402]]]\n",
      "(528, 60, 1)\n"
     ]
    }
   ],
   "source": [
    "prediction_days = 60\n",
    "X_train, Y_train = [], []\n",
    "\n",
    "for i in range(prediction_days, len(scaled_data_close)):\n",
    "    X_train.append(scaled_data_close[i-prediction_days:i,0])\n",
    "    Y_train.append(scaled_data_close[i,0])\n",
    "    \n",
    "X_train, Y_train = np.array(X_train), np.array(Y_train)\n",
    "print(X_train)\n",
    "print(X_train.shape)\n",
    "\n",
    "X_train = np.reshape(X_train, (X_train.shape[0], X_train.shape[1], 1))\n",
    "print(X_train)\n",
    "print(X_train.shape)\n",
    "\n",
    "\n"
   ]
  },
  {
   "cell_type": "code",
   "execution_count": 194,
   "metadata": {},
   "outputs": [],
   "source": [
    "#Create RNN\n"
   ]
  },
  {
   "cell_type": "code",
   "execution_count": 195,
   "metadata": {},
   "outputs": [
    {
     "name": "stdout",
     "output_type": "stream",
     "text": [
      "Model: \"sequential_22\"\n",
      "_________________________________________________________________\n",
      "Layer (type)                 Output Shape              Param #   \n",
      "=================================================================\n",
      "lstm_57 (LSTM)               (None, 60, 50)            10400     \n",
      "_________________________________________________________________\n",
      "dropout_57 (Dropout)         (None, 60, 50)            0         \n",
      "_________________________________________________________________\n",
      "lstm_58 (LSTM)               (None, 60, 50)            20200     \n",
      "_________________________________________________________________\n",
      "dropout_58 (Dropout)         (None, 60, 50)            0         \n",
      "_________________________________________________________________\n",
      "lstm_59 (LSTM)               (None, 50)                20200     \n",
      "_________________________________________________________________\n",
      "dropout_59 (Dropout)         (None, 50)                0         \n",
      "_________________________________________________________________\n",
      "dense_18 (Dense)             (None, 1)                 51        \n",
      "=================================================================\n",
      "Total params: 50,851\n",
      "Trainable params: 50,851\n",
      "Non-trainable params: 0\n",
      "_________________________________________________________________\n"
     ]
    }
   ],
   "source": [
    "model = Sequential()\n",
    "model.add(LSTM(units=50, return_sequences=True, input_shape=(X_train.shape[1],1)))\n",
    "model.add(Dropout(0.2))\n",
    "model.add(LSTM(units=50, return_sequences=True))\n",
    "model.add(Dropout(0.2))\n",
    "model.add(LSTM(units=50))\n",
    "model.add(Dropout(0.2))\n",
    "model.add(Dense(units=1))\n",
    "model.summary()\n",
    "\n",
    "\n",
    "\n",
    "\n"
   ]
  },
  {
   "cell_type": "code",
   "execution_count": 196,
   "metadata": {},
   "outputs": [
    {
     "name": "stdout",
     "output_type": "stream",
     "text": [
      "Epoch 1/30\n",
      "17/17 [==============================] - 6s 75ms/step - loss: 0.0380\n",
      "Epoch 2/30\n",
      "17/17 [==============================] - 1s 79ms/step - loss: 0.0054\n",
      "Epoch 3/30\n",
      "17/17 [==============================] - 1s 77ms/step - loss: 0.0050\n",
      "Epoch 4/30\n",
      "17/17 [==============================] - 1s 75ms/step - loss: 0.0045\n",
      "Epoch 5/30\n",
      "17/17 [==============================] - 1s 75ms/step - loss: 0.0041\n",
      "Epoch 6/30\n",
      "17/17 [==============================] - 1s 77ms/step - loss: 0.0036\n",
      "Epoch 7/30\n",
      "17/17 [==============================] - 1s 76ms/step - loss: 0.0039\n",
      "Epoch 8/30\n",
      "17/17 [==============================] - 1s 78ms/step - loss: 0.0034\n",
      "Epoch 9/30\n",
      "17/17 [==============================] - 1s 75ms/step - loss: 0.0038\n",
      "Epoch 10/30\n",
      "17/17 [==============================] - 1s 78ms/step - loss: 0.0038\n",
      "Epoch 11/30\n",
      "17/17 [==============================] - 1s 78ms/step - loss: 0.0027\n",
      "Epoch 12/30\n",
      "17/17 [==============================] - 1s 79ms/step - loss: 0.0035\n",
      "Epoch 13/30\n",
      "17/17 [==============================] - 1s 75ms/step - loss: 0.0036\n",
      "Epoch 14/30\n",
      "17/17 [==============================] - 1s 75ms/step - loss: 0.0033\n",
      "Epoch 15/30\n",
      "17/17 [==============================] - 1s 81ms/step - loss: 0.0035\n",
      "Epoch 16/30\n",
      "17/17 [==============================] - 1s 80ms/step - loss: 0.0035\n",
      "Epoch 17/30\n",
      "17/17 [==============================] - 1s 74ms/step - loss: 0.0034\n",
      "Epoch 18/30\n",
      "17/17 [==============================] - 1s 75ms/step - loss: 0.0037\n",
      "Epoch 19/30\n",
      "17/17 [==============================] - 1s 81ms/step - loss: 0.0026\n",
      "Epoch 20/30\n",
      "17/17 [==============================] - 1s 78ms/step - loss: 0.0030\n",
      "Epoch 21/30\n",
      "17/17 [==============================] - 1s 75ms/step - loss: 0.0031\n",
      "Epoch 22/30\n",
      "17/17 [==============================] - 1s 74ms/step - loss: 0.0035\n",
      "Epoch 23/30\n",
      "17/17 [==============================] - 1s 82ms/step - loss: 0.0032\n",
      "Epoch 24/30\n",
      "17/17 [==============================] - 1s 78ms/step - loss: 0.0026\n",
      "Epoch 25/30\n",
      "17/17 [==============================] - 1s 75ms/step - loss: 0.0031\n",
      "Epoch 26/30\n",
      "17/17 [==============================] - 1s 75ms/step - loss: 0.0027\n",
      "Epoch 27/30\n",
      "17/17 [==============================] - 1s 78ms/step - loss: 0.0027\n",
      "Epoch 28/30\n",
      "17/17 [==============================] - 1s 80ms/step - loss: 0.0029\n",
      "Epoch 29/30\n",
      "17/17 [==============================] - 1s 75ms/step - loss: 0.0033\n",
      "Epoch 30/30\n",
      "17/17 [==============================] - 1s 76ms/step - loss: 0.0025\n"
     ]
    },
    {
     "data": {
      "text/plain": [
       "<keras.callbacks.History at 0x2a747dcc3a0>"
      ]
     },
     "execution_count": 196,
     "metadata": {},
     "output_type": "execute_result"
    }
   ],
   "source": [
    "model.compile(optimizer='adam',loss='mean_squared_error')\n",
    "model.fit(X_train,Y_train,epochs=30,batch_size=32)"
   ]
  },
  {
   "cell_type": "code",
   "execution_count": 197,
   "metadata": {},
   "outputs": [
    {
     "data": {
      "text/plain": [
       "array([47088.5703125 , 47432.76953125, 44387.26171875, 47823.05859375,\n",
       "       46742.55859375, 47155.5078125 , 48345.46484375, 47846.5234375 ,\n",
       "       46010.484375  , 46692.53125   , 40695.51171875, 41166.6953125 ,\n",
       "       41072.77734375, 38498.73828125, 38235.890625  , 35814.0859375 ,\n",
       "       35106.796875  , 30403.203125  , 33359.13671875, 30627.82226562,\n",
       "       30818.25      , 28545.53710938, 31689.203125  , 31356.95117188,\n",
       "       32229.53320312, 31524.04101562, 29278.3203125 , 28391.1640625 ,\n",
       "       29269.51757812, 30519.30859375, 30026.79492188, 30775.01171875,\n",
       "       32321.55078125, 30322.69921875, 29221.08007812, 29474.39257812,\n",
       "       27526.4921875 , 27497.93359375, 30664.52734375, 30150.48828125,\n",
       "       30832.0546875 , 29360.51367188, 32286.50585938, 33178.515625  ,\n",
       "       33325.59375   , 31969.33398438, 31943.0625    , 30165.85546875,\n",
       "       30019.2265625 , 30071.78125   , 26591.06445312, 27232.39648438,\n",
       "       28266.57617188, 29059.703125  , 26502.84179688, 26965.50195312,\n",
       "       29013.7421875 , 28866.30273438, 30139.98046875, 29555.0546875 ,\n",
       "       28341.4140625 , 28569.31445312, 29219.5546875 , 29764.078125  ,\n",
       "       28444.03320312, 28957.70117188, 28707.89453125, 27752.7109375 ,\n",
       "       28454.8828125 , 28223.0703125 , 28840.88671875, 27948.55664062,\n",
       "       27772.1953125 , 27737.47851562, 26906.45703125, 26616.2421875 ,\n",
       "       26710.71484375, 26917.8125    , 26134.5390625 , 25299.8515625 ,\n",
       "       27227.45898438, 27447.94726562, 28527.83007812, 29132.25585938,\n",
       "       30026.51953125, 31628.84765625, 33336.06640625, 33764.22265625,\n",
       "       33643.08203125, 35590.078125  , 35077.26953125, 33690.84375   ,\n",
       "       33015.015625  , 32145.03125   , 33576.1875    , 34536.40625   ,\n",
       "       36399.93359375, 37878.578125  , 37281.74609375, 39501.9296875 ,\n",
       "       38895.97265625, 38829.91015625, 37857.078125  , 40514.828125  ,\n",
       "       39924.8359375 , 39890.16796875, 39058.03515625, 38170.50390625,\n",
       "       38282.078125  , 40011.64453125, 42168.41796875, 41810.28125   ,\n",
       "       42166.0703125 , 42187.3046875 , 40591.27734375, 41589.10546875,\n",
       "       39938.91015625, 41591.3515625 , 41458.87109375, 41386.45703125,\n",
       "       39888.60546875, 39937.78125   , 41250.73046875])"
      ]
     },
     "execution_count": 197,
     "metadata": {},
     "output_type": "execute_result"
    }
   ],
   "source": [
    "# start_test = dt.datetime(2021,9,3)\n",
    "\n",
    "# end_test = dt.datetime.now()\n",
    "# test_data = web.DataReader(f'{crypto}-{against_courrency}','yahoo',start_test,end_test)\n",
    "test_data['Close'].values"
   ]
  },
  {
   "cell_type": "code",
   "execution_count": 198,
   "metadata": {},
   "outputs": [
    {
     "name": "stdout",
     "output_type": "stream",
     "text": [
      "Date\n",
      "2021-03-03    50538.242188\n",
      "2021-03-04    48561.167969\n",
      "2021-03-05    48927.304688\n",
      "2021-03-06    48912.382812\n",
      "2021-03-07    51206.691406\n",
      "                  ...     \n",
      "2021-10-26    58482.386719\n",
      "2021-10-27    60622.136719\n",
      "2021-10-28    62227.964844\n",
      "2021-10-29    61888.832031\n",
      "2021-10-31    60684.011719\n",
      "Name: Close, Length: 243, dtype: float64\n",
      "[[[0.77052252]\n",
      "  [0.74229148]\n",
      "  [0.75252153]\n",
      "  ...\n",
      "  [0.81608932]\n",
      "  [0.89571402]\n",
      "  [0.89700812]]\n",
      "\n",
      " [[0.74229148]\n",
      "  [0.75252153]\n",
      "  [0.75192154]\n",
      "  ...\n",
      "  [0.89571402]\n",
      "  [0.89700812]\n",
      "  [0.87602436]]\n",
      "\n",
      " [[0.75252153]\n",
      "  [0.75192154]\n",
      "  [0.79071972]\n",
      "  ...\n",
      "  [0.89700812]\n",
      "  [0.87602436]\n",
      "  [0.8830951 ]]\n",
      "\n",
      " ...\n",
      "\n",
      " [[0.49090952]\n",
      "  [0.49559118]\n",
      "  [0.50894879]\n",
      "  ...\n",
      "  [0.76309734]\n",
      "  [0.76037585]\n",
      "  [0.75888828]]\n",
      "\n",
      " [[0.49559118]\n",
      "  [0.50894879]\n",
      "  [0.5201347 ]\n",
      "  ...\n",
      "  [0.76037585]\n",
      "  [0.75888828]\n",
      "  [0.72811855]]\n",
      "\n",
      " [[0.50894879]\n",
      "  [0.5201347 ]\n",
      "  [0.49301758]\n",
      "  ...\n",
      "  [0.75888828]\n",
      "  [0.72811855]\n",
      "  [0.72912875]]] [0.87602436 0.8830951  0.82053253 0.89111264 0.86891639 0.87739943\n",
      " 0.90184421 0.89159467 0.8538777  0.8678887  0.74469448 0.75437381\n",
      " 0.75244449 0.6995671  0.69416754 0.64441743 0.6298879  0.53326397\n",
      " 0.59398646 0.53787823 0.54179011 0.49510273 0.55968172 0.55285641\n",
      " 0.57078149 0.55628887 0.51015599 0.49193151 0.50997515 0.53564908\n",
      " 0.52553158 0.54090188 0.57267177 0.53161022 0.50898012 0.51418381\n",
      " 0.47416893 0.47358226 0.53863225 0.52807256 0.54207369 0.51184445\n",
      " 0.57195186 0.59027604 0.5932974  0.56543633 0.56489665 0.52838824\n",
      " 0.52537611 0.52645572 0.45495283 0.46812744 0.48937216 0.50566503\n",
      " 0.45314051 0.46264474 0.50472087 0.50169208 0.5278567  0.51584082\n",
      " 0.49090952 0.49559118 0.50894879 0.5201347  0.49301758 0.50356964\n",
      " 0.49843797 0.47881604 0.49324046 0.48847843 0.50116997 0.48283922\n",
      " 0.4792163  0.47850313 0.46143181 0.45547005 0.45741076 0.46166508\n",
      " 0.44557463 0.428428   0.46802602 0.47255541 0.49473898 0.50715545\n",
      " 0.52552592 0.55844187 0.59351253 0.60230797 0.59981943 0.63981574\n",
      " 0.62928133 0.60080057 0.58691733 0.56904561 0.59844524 0.6181706\n",
      " 0.65645225 0.68682742 0.67456695 0.72017524 0.70772732 0.70637023\n",
      " 0.68638575 0.74098278 0.72886282 0.72815065 0.7110565  0.69282432\n",
      " 0.69511635 0.73064609 0.77495177 0.76759472 0.77490354 0.77533975\n",
      " 0.74255324 0.7630512  0.72915194 0.76309734 0.76037585 0.75888828\n",
      " 0.72811855 0.72912875 0.75610011]\n",
      "(123, 60, 1) (123,)\n",
      "(60, 1)\n",
      "(1, 60, 1)\n"
     ]
    },
    {
     "name": "stderr",
     "output_type": "stream",
     "text": [
      "C:\\Users\\Mattia\\list\\lib\\site-packages\\sklearn\\base.py:434: UserWarning: X has feature names, but MinMaxScaler was fitted without feature names\n",
      "  warnings.warn(\n",
      "C:\\Users\\Mattia\\list\\lib\\site-packages\\sklearn\\base.py:434: UserWarning: X has feature names, but MinMaxScaler was fitted without feature names\n",
      "  warnings.warn(\n"
     ]
    }
   ],
   "source": [
    "X_test, Y_test = [], []\n",
    "actual_prices = test_data['Close'].values\n",
    "total_dataset = pd.concat((training_data['Close'],test_data['Close']),axis=0)\n",
    "# model_inputs = total_dataset[len(total_dataset)-len(test_data)-prediction_days:]\n",
    "# print(model_inputs)\n",
    "# model_inputs.reshape(-1,1)\n",
    "print(model_inputs)\n",
    "part_60_days = training_data.tail(60)\n",
    "df= part_60_days.append(test_data, ignore_index = True)\n",
    "df = df[['Close']]\n",
    "last_60 = last_60[['Close']]\n",
    "df.tail()\n",
    "inputs = scaler.transform(df) \n",
    "last_scaled = scaler.transform(last_60)\n",
    "X_test=[]\n",
    "Y_test=[]\n",
    "for i in range (prediction_days, len(inputs)):\n",
    "    X_test.append(inputs[i-prediction_days:i]) \n",
    "    Y_test.append(inputs[i, 0])\n",
    "    \n",
    "X_test, Y_test = np.array(X_test), np.array(Y_test)\n",
    "print(X_test, Y_test)\n",
    "print(X_test.shape, Y_test.shape)\n",
    "print(last_scaled.shape)\n",
    "last_scaled = last_scaled.reshape((1,60,1))\n",
    "print(last_scaled.shape)\n",
    "Y_pred = model.predict(X_test) \n",
    "last_pred = model.predict(last_scaled)\n",
    "# for i in range()"
   ]
  },
  {
   "cell_type": "code",
   "execution_count": 199,
   "metadata": {},
   "outputs": [],
   "source": [
    "scale = 1/scaler.scale_[0]\n",
    "Y_test_rescaled = Y_test*scale\n",
    "Y_pred_rescaled = Y_pred*scale\n",
    "last_pred_rescaled = last_pred*scale"
   ]
  },
  {
   "cell_type": "code",
   "execution_count": 200,
   "metadata": {},
   "outputs": [
    {
     "data": {
      "image/png": "[encoded data removed]",
      "text/plain": [
       "<Figure size 1008x360 with 1 Axes>"
      ]
     },
     "metadata": {
      "needs_background": "light"
     },
     "output_type": "display_data"
    }
   ],
   "source": [
    "plt.figure(figsize=(14,5))\n",
    "plt.plot(Y_test_rescaled, color = 'red', label = 'Real Bitcoin Price')\n",
    "plt.plot(Y_pred_rescaled, color = 'green', label = 'Predicted Bitcoin Price')\n",
    "plt.title('Bitcoin Price Prediction using RNN-LSTM')\n",
    "plt.xlabel('Time')\n",
    "plt.ylabel('Price')\n",
    "plt.legend()\n",
    "plt.show()\n",
    "\n",
    "# print(Y_test)\n",
    "# print(Y_pred)"
   ]
  },
  {
   "cell_type": "code",
   "execution_count": 201,
   "metadata": {},
   "outputs": [
    {
     "name": "stdout",
     "output_type": "stream",
     "text": [
      "[[49613.01]]\n"
     ]
    },
    {
     "data": {
      "text/plain": [
       "[<matplotlib.lines.Line2D at 0x2a74fb609a0>]"
      ]
     },
     "execution_count": 201,
     "metadata": {},
     "output_type": "execute_result"
    },
    {
     "data": {
      "image/png": "[encoded data removed]",
      "text/plain": [
       "<Figure size 432x288 with 1 Axes>"
      ]
     },
     "metadata": {
      "needs_background": "light"
     },
     "output_type": "display_data"
    }
   ],
   "source": [
    "print(last_pred*scale) \n",
    "plt.plot(last_pred*scale)"
   ]
  },
  {
   "cell_type": "code",
   "execution_count": null,
   "metadata": {},
   "outputs": [],
   "source": []
  },
  {
   "cell_type": "code",
   "execution_count": null,
   "metadata": {},
   "outputs": [],
   "source": []
  }
 ],
 "metadata": {
  "colab": {
   "name": "Untitled4.ipynb",
   "provenance": []
  },
  "kernelspec": {
   "display_name": "Python 3 (ipykernel)",
   "language": "python",
   "name": "python3"
  },
  "language_info": {
   "codemirror_mode": {
    "name": "ipython",
    "version": 3
   },
   "file_extension": ".py",
   "mimetype": "text/x-python",
   "name": "python",
   "nbconvert_exporter": "python",
   "pygments_lexer": "ipython3",
   "version": "3.8.0"
  }
 },
 "nbformat": 4,
 "nbformat_minor": 1
}
